{
  "nbformat": 4,
  "nbformat_minor": 0,
  "metadata": {
    "colab": {
      "name": "Copy of super_trend_v0.4.ipynb",
      "provenance": [],
      "authorship_tag": "ABX9TyNKSry+gYrOcTWDR7xrGmuH",
      "include_colab_link": true
    },
    "kernelspec": {
      "name": "python3",
      "display_name": "Python 3"
    }
  },
  "cells": [
    {
      "cell_type": "markdown",
      "metadata": {
        "id": "view-in-github",
        "colab_type": "text"
      },
      "source": [
        "<a href=\"https://colab.research.google.com/github/vamsikrishna00466/EDA/blob/main/st-analysis.ipynb\" target=\"_parent\"><img src=\"https://colab.research.google.com/assets/colab-badge.svg\" alt=\"Open In Colab\"/></a>"
      ]
    },
    {
      "cell_type": "markdown",
      "metadata": {
        "id": "FX7IxEngM21d"
      },
      "source": [
        "# **ENTRY BUY PRICE**"
      ]
    },
    {
      "cell_type": "code",
      "metadata": {
        "id": "q3kU7SeQRmM0"
      },
      "source": [
        "import pandas as pd\r\n",
        "import numpy as np"
      ],
      "execution_count": null,
      "outputs": []
    },
    {
      "cell_type": "code",
      "metadata": {
        "id": "h00-Z1n6RtlN"
      },
      "source": [
        "df =pd.read_excel('/content/BankNiftyFutures_Data5Min.xlsx')"
      ],
      "execution_count": null,
      "outputs": []
    },
    {
      "cell_type": "code",
      "metadata": {
        "id": "ZUGtuvUIRthw"
      },
      "source": [
        "def TrueRange(data):\r\n",
        "    data = data.copy()\r\n",
        "    data[\"TR\"] = np.nan\r\n",
        "    for i in range(1,len(data)):\r\n",
        "        h = data.loc[i,\"High 5\"]\r\n",
        "        l = data.loc[i,\"Low 5\"]\r\n",
        "        pc = data.loc[i-1,\"Close 5\"]\r\n",
        "        \r\n",
        "        x = h-l\r\n",
        "        y = abs(h-pc)\r\n",
        "        z = abs(l-pc)\r\n",
        "        \r\n",
        "        TR = max(x,y,z)\r\n",
        "        data.loc[i,\"TR\"] = TR\r\n",
        "    \r\n",
        "    return data"
      ],
      "execution_count": null,
      "outputs": []
    },
    {
      "cell_type": "code",
      "metadata": {
        "id": "x9K3THEIRtds"
      },
      "source": [
        "new_df = TrueRange(df)"
      ],
      "execution_count": null,
      "outputs": []
    },
    {
      "cell_type": "code",
      "metadata": {
        "id": "8TH63qaSRtZ8"
      },
      "source": [
        "def average_true_range(data, period=7, drop_tr=True, smoothing=\"SMA\"):\r\n",
        "    \"\"\"\r\n",
        "    Average True Range\r\n",
        "    :param data: Pandas Dataframe\r\n",
        "    :param period: Period for which the ATR needs to be calculated\r\n",
        "    :param drop_tr: Whether to drop the TR field\r\n",
        "    :param smoothing: Smoothing type - Possible values: RMA, SMA, EMA\r\n",
        "    :return: Pandas Dataframe with new column atr_<period>_<smoothing>. Ex: atr_14_sma\r\n",
        "    \"\"\"\r\n",
        "    data = data.copy()\r\n",
        "    if smoothing == \"RMA\":\r\n",
        "        data['atr_' + str(period) + '_' + str(smoothing)] = data['TR'].ewm(com=period - 1,\r\n",
        "                                                                           min_periods=period).mean()\r\n",
        "    elif smoothing == \"SMA\":\r\n",
        "        data['atr_' + str(period) + '_' + str(smoothing)] = data['TR'].rolling(window=period).mean()\r\n",
        "    elif smoothing == \"EMA\":\r\n",
        "        data['atr_' + str(period) + '_' + str(smoothing)] = data['TR'].ewm(span=period, adjust=False).mean()\r\n",
        "    \r\n",
        "    if drop_tr:\r\n",
        "        data.drop(['TR'], inplace=True, axis=1)\r\n",
        "    data = data.round(decimals=2)\r\n",
        "\r\n",
        "    return data"
      ],
      "execution_count": null,
      "outputs": []
    },
    {
      "cell_type": "code",
      "metadata": {
        "id": "0iyCRs26RtWJ"
      },
      "source": [
        "ATR_df = average_true_range(data = new_df, period=18, drop_tr=True, smoothing=\"SMA\")\r\n"
      ],
      "execution_count": null,
      "outputs": []
    },
    {
      "cell_type": "code",
      "metadata": {
        "id": "7UD7Ok_lL1Y2"
      },
      "source": [
        "df = ATR_df.copy()\r\n",
        "f=3\r\n",
        "n=19"
      ],
      "execution_count": null,
      "outputs": []
    },
    {
      "cell_type": "code",
      "metadata": {
        "colab": {
          "base_uri": "https://localhost:8080/"
        },
        "id": "GSAJMA4QSIiY",
        "outputId": "8157ce8d-b060-48d3-cb18-6356129dc613"
      },
      "source": [
        "\r\n",
        "df['Upper Basic']=(df['High 5']+df['Low 5'])/2+(f*df['atr_18_SMA'])\r\n",
        "df['Lower Basic']=(df['High 5']+df['Low 5'])/2-(f*df['atr_18_SMA'])\r\n",
        "df['Upper Band']=df['Upper Basic']\r\n",
        "df['Lower Band']=df['Lower Basic']\r\n",
        "\r\n",
        "#super trend\r\n",
        "df['SuperTrend']=np.nan\r\n",
        "for i in df['SuperTrend']:\r\n",
        "  if df['Close 5'].iloc[n-1]<=df['Upper Band'].iloc[n-1]:\r\n",
        "    df['SuperTrend'].iloc[n-1]=df['Upper Band'].iloc[n-1]\r\n",
        "  elif df['Close 5'].iloc[n-1]>df['Upper Band'].iloc[i]:\r\n",
        "    df['SuperTrend'].iloc[n-1]=df['Lower Band'].iloc[n-1]\r\n",
        "for i in range(n,len(df)):\r\n",
        "  if df['SuperTrend'].iloc[i-1]==df['Upper Band'].iloc[i-1] and df['Close 5'].iloc[i]<=df['Upper Band'].iloc[i]:\r\n",
        "    df['SuperTrend'].iloc[i]=df['Upper Band'].iloc[i]\r\n",
        "  elif  df['SuperTrend'].iloc[i-1]==df['Upper Band'].iloc[i-1] and df['Close 5'].iloc[i]>=df['Upper Band'].iloc[i]:\r\n",
        "    df['SuperTrend'].iloc[i]=df['Lower Band'].iloc[i]\r\n",
        "  elif df['SuperTrend'].iloc[i-1]==df['Lower Band'].iloc[i-1] and df['Close 5'].iloc[i]>=df['Lower Band'].iloc[i]:\r\n",
        "    df['SuperTrend'].iloc[i]=df['Lower Band'].iloc[i]\r\n",
        "  elif df['SuperTrend'].iloc[i-1]==df['Lower Band'].iloc[i-1] and df['Close 5'].iloc[i]<=df['Lower Band'].iloc[i]:\r\n",
        "    df['SuperTrend'].iloc[i]=df['Upper Band'].iloc[i]\r\n"
      ],
      "execution_count": null,
      "outputs": [
        {
          "output_type": "stream",
          "text": [
            "/usr/local/lib/python3.7/dist-packages/pandas/core/indexing.py:670: SettingWithCopyWarning: \n",
            "A value is trying to be set on a copy of a slice from a DataFrame\n",
            "\n",
            "See the caveats in the documentation: https://pandas.pydata.org/pandas-docs/stable/user_guide/indexing.html#returning-a-view-versus-a-copy\n",
            "  iloc._setitem_with_indexer(indexer, value)\n"
          ],
          "name": "stderr"
        }
      ]
    },
    {
      "cell_type": "code",
      "metadata": {
        "id": "iOB1hcHAE1aA",
        "colab": {
          "base_uri": "https://localhost:8080/"
        },
        "outputId": "408df408-87bd-4068-a039-10fa6a10e4a3"
      },
      "source": [
        "#entry price\r\n",
        "#long entry\r\n",
        "df['long_entry_buy']=np.nan\r\n",
        "for i in range(n,len(df)):\r\n",
        "  if df['SuperTrend'].iloc[n-1] < df['Close 5'].iloc[n-1] and df['SuperTrend'].iloc[n-1] < df['Open 5'].iloc[n-1] and df['High 5'].iloc[n-1] < df['Open 5'].iloc[n] and df['High 5'].iloc[n-1] < df['Close 5'].iloc[n]:\r\n",
        "    df['long_entry_buy'].iloc[n]=df['High 5'].iloc[n-1]\r\n",
        "\r\n",
        "for i in range(n,len(df)):\r\n",
        "  if df['SuperTrend'].iloc[i-1] < df['Close 5'].iloc[i-1] and df['SuperTrend'].iloc[i-1] < df['Open 5'].iloc[i-1] and df['High 5'].iloc[i-1] < df['Open 5'].iloc[i] and df['High 5'].iloc[i-1] < df['Close 5'].iloc[i]:\r\n",
        "    df['long_entry_buy'].iloc[i]=df['High 5'].iloc[i-1]\r\n",
        "\r\n",
        "#short entry\r\n",
        "df['short_entry_buy']=np.nan\r\n",
        "for i in range(n,len(df)):\r\n",
        "  if df['SuperTrend'].iloc[n-1] > df['Close 5'].iloc[n-1] and df['SuperTrend'].iloc[n-1] > df['Open 5'].iloc[n-1] and df['Low 5'].iloc[n-1] > df['Open 5'].iloc[n] and df['Low 5'].iloc[n-1] > df['Close 5'].iloc[n]:\r\n",
        "    df['short_entry_buy'].iloc[n]=df['High 5'].iloc[n-1]\r\n",
        "\r\n",
        "for i in range(n,len(df)):\r\n",
        "  if df['SuperTrend'].iloc[i-1] > df['Close 5'].iloc[i-1] and df['SuperTrend'].iloc[i-1] > df['Open 5'].iloc[i-1] and df['Low 5'].iloc[i-1] > df['Open 5'].iloc[i] and df['Low 5'].iloc[i-1] > df['Close 5'].iloc[i]:\r\n",
        "    df['short_entry_buy'].iloc[i]=df['High 5'].iloc[i-1]"
      ],
      "execution_count": null,
      "outputs": [
        {
          "output_type": "stream",
          "text": [
            "/usr/local/lib/python3.7/dist-packages/pandas/core/indexing.py:670: SettingWithCopyWarning: \n",
            "A value is trying to be set on a copy of a slice from a DataFrame\n",
            "\n",
            "See the caveats in the documentation: https://pandas.pydata.org/pandas-docs/stable/user_guide/indexing.html#returning-a-view-versus-a-copy\n",
            "  iloc._setitem_with_indexer(indexer, value)\n"
          ],
          "name": "stderr"
        }
      ]
    },
    {
      "cell_type": "code",
      "metadata": {
        "id": "BmdPFkXDLJFj"
      },
      "source": [
        "from datetime import datetime\r\n",
        "def convert_datetime(dt):\r\n",
        "    return datetime.strftime(dt, '%Y-%m-%d %H:%M-%S')\r\n",
        "\r\n",
        "df['date1']= df ['Date'].apply(convert_datetime)\r\n",
        "\r\n",
        "df['date2'] = df['date1'].apply(lambda x : x[:-8])\r\n",
        "\r\n",
        "df['date'] = df['date2'].astype(str)+' '+df['Time'].astype(str)\r\n",
        "\r\n",
        "\r\n",
        "\r\n",
        "df['Date'] = pd.to_datetime(df['date'])\r\n",
        "df=df.drop(['date', 'date2', 'date1'], axis = 1)\r\n",
        "\r\n",
        "df2= df.copy()\r\n",
        "\r\n",
        "#df.set_index(df['Date'], inplace=True)\r\n"
      ],
      "execution_count": null,
      "outputs": []
    },
    {
      "cell_type": "code",
      "metadata": {
        "id": "WaqXWcGWJqRc",
        "colab": {
          "base_uri": "https://localhost:8080/",
          "height": 428
        },
        "outputId": "7963b1fa-82e0-4adb-95d0-b7dccc17b165"
      },
      "source": [
        "df.head()"
      ],
      "execution_count": null,
      "outputs": [
        {
          "output_type": "execute_result",
          "data": {
            "text/html": [
              "<div>\n",
              "<style scoped>\n",
              "    .dataframe tbody tr th:only-of-type {\n",
              "        vertical-align: middle;\n",
              "    }\n",
              "\n",
              "    .dataframe tbody tr th {\n",
              "        vertical-align: top;\n",
              "    }\n",
              "\n",
              "    .dataframe thead th {\n",
              "        text-align: right;\n",
              "    }\n",
              "</style>\n",
              "<table border=\"1\" class=\"dataframe\">\n",
              "  <thead>\n",
              "    <tr style=\"text-align: right;\">\n",
              "      <th></th>\n",
              "      <th>Ticker</th>\n",
              "      <th>Date</th>\n",
              "      <th>Final Date format</th>\n",
              "      <th>Time</th>\n",
              "      <th>Open 5</th>\n",
              "      <th>High 5</th>\n",
              "      <th>Low 5</th>\n",
              "      <th>Close 5</th>\n",
              "      <th>Volume 5</th>\n",
              "      <th>Year</th>\n",
              "      <th>atr_18_SMA</th>\n",
              "      <th>Upper Basic</th>\n",
              "      <th>Lower Basic</th>\n",
              "      <th>Upper Band</th>\n",
              "      <th>Lower Band</th>\n",
              "      <th>SuperTrend</th>\n",
              "      <th>long_entry_buy</th>\n",
              "      <th>short_entry_buy</th>\n",
              "    </tr>\n",
              "  </thead>\n",
              "  <tbody>\n",
              "    <tr>\n",
              "      <th>0</th>\n",
              "      <td>BANKNIFTY_F1</td>\n",
              "      <td>2015-01-01 09:20:00</td>\n",
              "      <td>20150101</td>\n",
              "      <td>09:20:00</td>\n",
              "      <td>18861.35</td>\n",
              "      <td>18867.95</td>\n",
              "      <td>18793.0</td>\n",
              "      <td>18808.35</td>\n",
              "      <td>84825</td>\n",
              "      <td>2015</td>\n",
              "      <td>NaN</td>\n",
              "      <td>NaN</td>\n",
              "      <td>NaN</td>\n",
              "      <td>NaN</td>\n",
              "      <td>NaN</td>\n",
              "      <td>NaN</td>\n",
              "      <td>NaN</td>\n",
              "      <td>NaN</td>\n",
              "    </tr>\n",
              "    <tr>\n",
              "      <th>1</th>\n",
              "      <td>BANKNIFTY_F1</td>\n",
              "      <td>2015-01-01 09:25:00</td>\n",
              "      <td>20150101</td>\n",
              "      <td>09:25:00</td>\n",
              "      <td>18808.00</td>\n",
              "      <td>18835.00</td>\n",
              "      <td>18802.2</td>\n",
              "      <td>18829.00</td>\n",
              "      <td>40925</td>\n",
              "      <td>2015</td>\n",
              "      <td>NaN</td>\n",
              "      <td>NaN</td>\n",
              "      <td>NaN</td>\n",
              "      <td>NaN</td>\n",
              "      <td>NaN</td>\n",
              "      <td>NaN</td>\n",
              "      <td>NaN</td>\n",
              "      <td>NaN</td>\n",
              "    </tr>\n",
              "    <tr>\n",
              "      <th>2</th>\n",
              "      <td>BANKNIFTY_F1</td>\n",
              "      <td>2015-01-01 09:30:00</td>\n",
              "      <td>20150101</td>\n",
              "      <td>09:30:00</td>\n",
              "      <td>18826.95</td>\n",
              "      <td>18833.40</td>\n",
              "      <td>18820.0</td>\n",
              "      <td>18826.10</td>\n",
              "      <td>27000</td>\n",
              "      <td>2015</td>\n",
              "      <td>NaN</td>\n",
              "      <td>NaN</td>\n",
              "      <td>NaN</td>\n",
              "      <td>NaN</td>\n",
              "      <td>NaN</td>\n",
              "      <td>NaN</td>\n",
              "      <td>NaN</td>\n",
              "      <td>NaN</td>\n",
              "    </tr>\n",
              "    <tr>\n",
              "      <th>3</th>\n",
              "      <td>BANKNIFTY_F1</td>\n",
              "      <td>2015-01-01 09:35:00</td>\n",
              "      <td>20150101</td>\n",
              "      <td>09:35:00</td>\n",
              "      <td>18825.05</td>\n",
              "      <td>18829.10</td>\n",
              "      <td>18810.0</td>\n",
              "      <td>18810.00</td>\n",
              "      <td>18025</td>\n",
              "      <td>2015</td>\n",
              "      <td>NaN</td>\n",
              "      <td>NaN</td>\n",
              "      <td>NaN</td>\n",
              "      <td>NaN</td>\n",
              "      <td>NaN</td>\n",
              "      <td>NaN</td>\n",
              "      <td>NaN</td>\n",
              "      <td>NaN</td>\n",
              "    </tr>\n",
              "    <tr>\n",
              "      <th>4</th>\n",
              "      <td>BANKNIFTY_F1</td>\n",
              "      <td>2015-01-01 09:40:00</td>\n",
              "      <td>20150101</td>\n",
              "      <td>09:40:00</td>\n",
              "      <td>18805.00</td>\n",
              "      <td>18808.95</td>\n",
              "      <td>18775.0</td>\n",
              "      <td>18803.95</td>\n",
              "      <td>60100</td>\n",
              "      <td>2015</td>\n",
              "      <td>NaN</td>\n",
              "      <td>NaN</td>\n",
              "      <td>NaN</td>\n",
              "      <td>NaN</td>\n",
              "      <td>NaN</td>\n",
              "      <td>NaN</td>\n",
              "      <td>NaN</td>\n",
              "      <td>NaN</td>\n",
              "    </tr>\n",
              "  </tbody>\n",
              "</table>\n",
              "</div>"
            ],
            "text/plain": [
              "         Ticker                Date  ...  long_entry_buy short_entry_buy\n",
              "0  BANKNIFTY_F1 2015-01-01 09:20:00  ...             NaN             NaN\n",
              "1  BANKNIFTY_F1 2015-01-01 09:25:00  ...             NaN             NaN\n",
              "2  BANKNIFTY_F1 2015-01-01 09:30:00  ...             NaN             NaN\n",
              "3  BANKNIFTY_F1 2015-01-01 09:35:00  ...             NaN             NaN\n",
              "4  BANKNIFTY_F1 2015-01-01 09:40:00  ...             NaN             NaN\n",
              "\n",
              "[5 rows x 18 columns]"
            ]
          },
          "metadata": {
            "tags": []
          },
          "execution_count": 21
        }
      ]
    },
    {
      "cell_type": "code",
      "metadata": {
        "colab": {
          "base_uri": "https://localhost:8080/"
        },
        "id": "3vCbYmdSLLYZ",
        "outputId": "bcb52783-034e-4019-832d-a84a8657140d"
      },
      "source": [
        "df.info()"
      ],
      "execution_count": null,
      "outputs": [
        {
          "output_type": "stream",
          "text": [
            "<class 'pandas.core.frame.DataFrame'>\n",
            "RangeIndex: 91737 entries, 0 to 91736\n",
            "Data columns (total 18 columns):\n",
            " #   Column             Non-Null Count  Dtype         \n",
            "---  ------             --------------  -----         \n",
            " 0   Ticker             91737 non-null  object        \n",
            " 1   Date               91737 non-null  datetime64[ns]\n",
            " 2   Final Date format  91737 non-null  int64         \n",
            " 3   Time               91737 non-null  object        \n",
            " 4   Open 5             91737 non-null  float64       \n",
            " 5   High 5             91737 non-null  float64       \n",
            " 6   Low 5              91737 non-null  float64       \n",
            " 7   Close 5            91737 non-null  float64       \n",
            " 8   Volume 5           91737 non-null  int64         \n",
            " 9   Year               91737 non-null  int64         \n",
            " 10  atr_18_SMA         91719 non-null  float64       \n",
            " 11  Upper Basic        91719 non-null  float64       \n",
            " 12  Lower Basic        91719 non-null  float64       \n",
            " 13  Upper Band         91719 non-null  float64       \n",
            " 14  Lower Band         91719 non-null  float64       \n",
            " 15  SuperTrend         91719 non-null  float64       \n",
            " 16  long_entry_buy     644 non-null    float64       \n",
            " 17  short_entry_buy    487 non-null    float64       \n",
            "dtypes: datetime64[ns](1), float64(12), int64(3), object(2)\n",
            "memory usage: 12.6+ MB\n"
          ],
          "name": "stdout"
        }
      ]
    },
    {
      "cell_type": "code",
      "metadata": {
        "id": "WD1BjaKWMIj4"
      },
      "source": [
        "df['Date'].iloc[n-1].date()\r\n",
        "df['Date'].iloc[n-1].time()\r\n",
        "df['Date'].iloc[n-1].time() > datetime.time(9,30)\r\n",
        "df['Date'].iloc[n-1].time() < datetime.time(15,0)"
      ],
      "execution_count": null,
      "outputs": []
    }
  ]
}